{
  "nbformat": 4,
  "nbformat_minor": 0,
  "metadata": {
    "colab": {
      "provenance": []
    },
    "kernelspec": {
      "name": "python3",
      "display_name": "Python 3"
    },
    "language_info": {
      "name": "python"
    }
  },
  "cells": [
    {
      "cell_type": "markdown",
      "source": [
        "Problem Statement -1\n",
        "You are given an array A consisting of positive integers. Your task is to find and return all\n",
        "the leaders in the array. An element of the array is considered a leader if it is greater than or\n",
        "equal to all the elements to its right side. The rightmost element is always a leader."
      ],
      "metadata": {
        "id": "bhN8A5YN06br"
      }
    },
    {
      "cell_type": "code",
      "source": [
        "def leader(n, arr):\n",
        "    if n == 0:\n",
        "        return []\n",
        "\n",
        "    leaders = [arr[n - 1]]  # Rightmost element is always a leader\n",
        "    max_right = arr[n - 1]  # Initialize the maximum as the rightmost element\n",
        "\n",
        "    for i in range(n - 2, -1, -1):\n",
        "        if arr[i] >= max_right:\n",
        "            leaders.append(arr[i])\n",
        "            max_right = arr[i]\n",
        "\n",
        "    # Reverse the leaders list to have them in the original order\n",
        "    leaders.reverse()\n",
        "\n",
        "    return leaders"
      ],
      "metadata": {
        "id": "SrjF2TZ91A5c"
      },
      "execution_count": 46,
      "outputs": []
    },
    {
      "cell_type": "markdown",
      "source": [
        "Example - 1"
      ],
      "metadata": {
        "id": "4CnyoggmE72N"
      }
    },
    {
      "cell_type": "code",
      "source": [
        "arr1 = [16,17,4,3,5,2]\n",
        "n = len(arr1)\n",
        "ans1 = leader(n,arr1)\n",
        "print(ans1)"
      ],
      "metadata": {
        "colab": {
          "base_uri": "https://localhost:8080/"
        },
        "id": "GZ3Gchyh6MqX",
        "outputId": "375dac68-ee3f-4e3e-df26-b5390babed3e"
      },
      "execution_count": 47,
      "outputs": [
        {
          "output_type": "stream",
          "name": "stdout",
          "text": [
            "[17, 5, 2]\n"
          ]
        }
      ]
    },
    {
      "cell_type": "markdown",
      "source": [
        "Example - 2"
      ],
      "metadata": {
        "id": "KgudoJ8fFIQr"
      }
    },
    {
      "cell_type": "code",
      "source": [
        "arr2 = [1,2,3,4,0]\n",
        "n = len(arr2)\n",
        "ans2 = leader(n,arr2)\n",
        "print(ans2)"
      ],
      "metadata": {
        "colab": {
          "base_uri": "https://localhost:8080/"
        },
        "id": "AWUjGx9f6T4v",
        "outputId": "94884d46-4290-4f2c-b687-402c1020f280"
      },
      "execution_count": 48,
      "outputs": [
        {
          "output_type": "stream",
          "name": "stdout",
          "text": [
            "[4, 0]\n"
          ]
        }
      ]
    },
    {
      "cell_type": "markdown",
      "source": [
        "Problem Statement -2\n",
        "Given a string S, your task is to reverse each word in it where the words are separated by\n",
        "dots."
      ],
      "metadata": {
        "id": "u5S292L362Q3"
      }
    },
    {
      "cell_type": "code",
      "source": [
        "def reverseWords(s):\n",
        "    words = s.split('.')  # Split the string into words\n",
        "    reversed_words = [word[::-1] for word in words]  # Reverse each word\n",
        "    reversed_string = '.'.join(reversed_words)  # Join the reversed words with dots\n",
        "    return reversed_string"
      ],
      "metadata": {
        "id": "KqXExV6C64OX"
      },
      "execution_count": 49,
      "outputs": []
    },
    {
      "cell_type": "markdown",
      "source": [
        "Example - 1"
      ],
      "metadata": {
        "id": "c9v6w-_NFKmD"
      }
    },
    {
      "cell_type": "code",
      "source": [
        "string1 = \"i.like.this.program.very.much\"\n",
        "result1 = reverseWords(string1)\n",
        "print(result1)"
      ],
      "metadata": {
        "colab": {
          "base_uri": "https://localhost:8080/"
        },
        "id": "PcEvAxw87aRl",
        "outputId": "5c040315-3475-4b90-f241-29f241a3b660"
      },
      "execution_count": 50,
      "outputs": [
        {
          "output_type": "stream",
          "name": "stdout",
          "text": [
            "i.ekil.siht.margorp.yrev.hcum\n"
          ]
        }
      ]
    },
    {
      "cell_type": "markdown",
      "source": [
        "Example - 2"
      ],
      "metadata": {
        "id": "1EejJc4SFL66"
      }
    },
    {
      "cell_type": "code",
      "source": [
        "string2 = \"pqr.mno\"\n",
        "result2 = reverseWords(string2)\n",
        "print(result2)"
      ],
      "metadata": {
        "colab": {
          "base_uri": "https://localhost:8080/"
        },
        "id": "boMHpwka8Ef2",
        "outputId": "4b9ac698-4e9e-4810-81c1-6330aac9b549"
      },
      "execution_count": 51,
      "outputs": [
        {
          "output_type": "stream",
          "name": "stdout",
          "text": [
            "rqp.onm\n"
          ]
        }
      ]
    },
    {
      "cell_type": "markdown",
      "source": [
        "Problem Statement -3\n",
        "You are given a dictionary containing information about people, including their names,\n",
        "ages, and cities. Your task is to perform the following operations using Pandas:"
      ],
      "metadata": {
        "id": "9Fj_gJd58dzH"
      }
    },
    {
      "cell_type": "code",
      "source": [
        "data = {\n",
        "    'Name': ['Alice', 'Bob', 'Charlie', 'David'],\n",
        "    'Age': [25, 30, 35, 40],\n",
        "    'City': ['New York', 'Los Angeles', 'Chicago', 'Houston']\n",
        "}\n",
        "# This is the provided data"
      ],
      "metadata": {
        "id": "gmiY6-tV8gS1"
      },
      "execution_count": 52,
      "outputs": []
    },
    {
      "cell_type": "code",
      "source": [
        "import pandas as pd # importing Pandas module.\n",
        "df = pd.DataFrame(data) # Converting data to dataframe\n",
        "data_columns = df[['Name', 'Age']] # Selecting the columns named as Name and Age\n",
        "print(data_columns) # Printing the columns"
      ],
      "metadata": {
        "colab": {
          "base_uri": "https://localhost:8080/"
        },
        "id": "3uTUwcuC86Rm",
        "outputId": "47f9b65c-66dd-4cf6-88a6-f01fd34e52bb"
      },
      "execution_count": 53,
      "outputs": [
        {
          "output_type": "stream",
          "name": "stdout",
          "text": [
            "      Name  Age\n",
            "0    Alice   25\n",
            "1      Bob   30\n",
            "2  Charlie   35\n",
            "3    David   40\n"
          ]
        }
      ]
    },
    {
      "cell_type": "code",
      "source": [
        "mean_age = df['Age'].mean() # It calculates the mean age\n",
        "\n",
        "median_age = df['Age'].median() # It calculates the median age\n",
        "\n",
        "print(\"Mean Age:\", mean_age)\n",
        "print(\"Median Age:\", median_age)"
      ],
      "metadata": {
        "colab": {
          "base_uri": "https://localhost:8080/"
        },
        "id": "MA3pKRme9RhG",
        "outputId": "6bbfe929-5809-4c23-dd1e-02ffd26bd9be"
      },
      "execution_count": 54,
      "outputs": [
        {
          "output_type": "stream",
          "name": "stdout",
          "text": [
            "Mean Age: 32.5\n",
            "Median Age: 32.5\n"
          ]
        }
      ]
    },
    {
      "cell_type": "markdown",
      "source": [
        "Problem Statement - 4\n",
        "\n",
        "You are given an array of integers. Your task is to write a Python function\n",
        "find_second_largest(arr) that finds and returns the second-largest number in the array."
      ],
      "metadata": {
        "id": "tDgvmFPM-OgX"
      }
    },
    {
      "cell_type": "code",
      "source": [
        "def find_second_largest(arr):\n",
        "  length_array = len(arr) # First we calculate the length of array\n",
        "  arr.sort(reverse = True) # then sorting the array in reverse order.\n",
        "  if(length_array >= 2): # Checking for the test case if length of array is greater than equal 2\n",
        "    ans = arr[1]\n",
        "  else:\n",
        "    return None; # Else return None in case of length of array is less than 2\n",
        "  return ans"
      ],
      "metadata": {
        "id": "EKTTRgeL-TD1"
      },
      "execution_count": 55,
      "outputs": []
    },
    {
      "cell_type": "markdown",
      "source": [
        "Example - 1"
      ],
      "metadata": {
        "id": "7KYUgBu_FQ79"
      }
    },
    {
      "cell_type": "code",
      "source": [
        "arr1 = [10, 5, 9, 22, 18]\n",
        "second_max1 = find_second_largest(arr1)\n",
        "print(second_max1)"
      ],
      "metadata": {
        "colab": {
          "base_uri": "https://localhost:8080/"
        },
        "id": "Pdao9Q5x_Q6X",
        "outputId": "e0c43949-357b-4ee7-ddb8-b78348e508e7"
      },
      "execution_count": 56,
      "outputs": [
        {
          "output_type": "stream",
          "name": "stdout",
          "text": [
            "18\n"
          ]
        }
      ]
    },
    {
      "cell_type": "markdown",
      "source": [
        "Example - 2"
      ],
      "metadata": {
        "id": "h468_tSKFi-5"
      }
    },
    {
      "cell_type": "code",
      "source": [
        "arr2 = [15, 15, 15, 15]\n",
        "second_max2 = find_second_largest(arr2)\n",
        "print(second_max2)"
      ],
      "metadata": {
        "colab": {
          "base_uri": "https://localhost:8080/"
        },
        "id": "fI7t0fwNAAN2",
        "outputId": "cd97a4f5-5ee9-4a2f-992f-cf6e6459e753"
      },
      "execution_count": 60,
      "outputs": [
        {
          "output_type": "stream",
          "name": "stdout",
          "text": [
            "15\n"
          ]
        }
      ]
    },
    {
      "cell_type": "markdown",
      "source": [
        "Problem Statement – 5\n",
        "Write a Python program that accepts a sentence and calculates the number of uppercase\n",
        "letters and lowercase letters."
      ],
      "metadata": {
        "id": "pcKwxDNGCMvk"
      }
    },
    {
      "cell_type": "code",
      "source": [
        "def count_upper_lower(sentence):\n",
        "    upper_count = 0\n",
        "    lower_count = 0\n",
        "\n",
        "    for char in sentence:\n",
        "        if char.isupper(): # It returns true if character is in Upper case\n",
        "            upper_count += 1\n",
        "        elif char.islower(): # It returns true if character is in Lower case\n",
        "            lower_count += 1\n",
        "\n",
        "    return upper_count, lower_count"
      ],
      "metadata": {
        "id": "KT0n5KGGCPIr"
      },
      "execution_count": 58,
      "outputs": []
    },
    {
      "cell_type": "markdown",
      "source": [
        "Example - 1"
      ],
      "metadata": {
        "id": "BxZ_uyF6FUFU"
      }
    },
    {
      "cell_type": "code",
      "source": [
        "sentence1 = \"Hello world!\"\n",
        "upper, lower = count_upper_lower(sentence1)\n",
        "\n",
        "print(\"UPPER CASE\", upper)\n",
        "print(\"LOWER CASE\", lower)\n"
      ],
      "metadata": {
        "colab": {
          "base_uri": "https://localhost:8080/"
        },
        "id": "tAtWslbVCiaH",
        "outputId": "5f4510d1-c79d-4170-dc63-8b514947d959"
      },
      "execution_count": 59,
      "outputs": [
        {
          "output_type": "stream",
          "name": "stdout",
          "text": [
            "UPPER CASE 1\n",
            "LOWER CASE 9\n"
          ]
        }
      ]
    }
  ]
}